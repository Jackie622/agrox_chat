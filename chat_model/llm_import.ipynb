{
 "cells": [
  {
   "cell_type": "code",
   "execution_count": 1,
   "id": "2bc18420",
   "metadata": {},
   "outputs": [],
   "source": [
    "import os\n",
    "import openai\n",
    "from dotenv import load_dotenv, find_dotenv\n",
    "\n",
    "# 读取本地/项目的环境变量。\n",
    "\n",
    "# find_dotenv()寻找并定位.env文件的路径\n",
    "# load_dotenv()读取该.env文件，并将其中的环境变量加载到当前的运行环境中  \n",
    "# 如果你设置的是全局的环境变量，这行代码则没有任何作用。\n",
    "_ = load_dotenv(find_dotenv())\n",
    "\n",
    "# 获取 DeepSeek API Key\n",
    "deepseek_api_key = os.environ['DEEPSEEK_API_KEY']\n",
    "\n",
    "# 配置 OpenAI 客户端以兼容 DeepSeek API（需确认 DeepSeek 是否兼容 OpenAI 格式）\n",
    "openai.api_key = deepseek_api_key\n",
    "openai.base_url = \"https://api.deepseek.com/v1\"  # 根据 DeepSeek 文档调整"
   ]
  },
  {
   "cell_type": "code",
   "execution_count": 2,
   "id": "4f1d1099",
   "metadata": {},
   "outputs": [
    {
     "data": {
      "text/plain": [
       "ChatOpenAI(client=<openai.resources.chat.completions.completions.Completions object at 0x000001905C290200>, async_client=<openai.resources.chat.completions.completions.AsyncCompletions object at 0x000001905C291EE0>, root_client=<openai.OpenAI object at 0x000001905BEA2120>, root_async_client=<openai.AsyncOpenAI object at 0x000001905C22F4D0>, model_name='deepseek-reasoner', temperature=0.0, model_kwargs={}, openai_api_key=SecretStr('**********'), openai_api_base='https://api.deepseek.com/v1')"
      ]
     },
     "execution_count": 2,
     "metadata": {},
     "output_type": "execute_result"
    }
   ],
   "source": [
    "from langchain_openai import ChatOpenAI\n",
    "\n",
    "# 修改后的 DeepSeek 配置\n",
    "llm = ChatOpenAI(\n",
    "    openai_api_key=os.getenv(\"DEEPSEEK_API_KEY\"),  # 从环境变量读取 DeepSeek 的 Key\n",
    "    base_url=\"https://api.deepseek.com/v1\",        # 指向 DeepSeek 的 API 地址\n",
    "    model_name=\"deepseek-reasoner\",                   # 根据 DeepSeek 支持的模型名称修改\n",
    "    temperature=0.0                              # 保持原有参数\n",
    ")\n",
    "llm"
   ]
  },
  {
   "cell_type": "code",
   "execution_count": 3,
   "id": "f5d7d4a6",
   "metadata": {},
   "outputs": [
    {
     "data": {
      "text/plain": [
       "[SystemMessage(content='你是一个翻译助手，可以帮助我将 中文 翻译成 英文.', additional_kwargs={}, response_metadata={}),\n",
       " HumanMessage(content='我带着比身体重的行李，游入尼罗河底，经过几道闪电 看到一堆光圈，不确定是不是这里。', additional_kwargs={}, response_metadata={})]"
      ]
     },
     "execution_count": 3,
     "metadata": {},
     "output_type": "execute_result"
    }
   ],
   "source": [
    "from langchain.prompts.chat import ChatPromptTemplate\n",
    "\n",
    "template = \"你是一个翻译助手，可以帮助我将 {input_language} 翻译成 {output_language}.\"\n",
    "human_template = \"{text}\"\n",
    "\n",
    "chat_prompt = ChatPromptTemplate.from_messages([\n",
    "    (\"system\", template),\n",
    "    (\"human\", human_template),\n",
    "])\n",
    "\n",
    "text = \"我带着比身体重的行李，\\\n",
    "游入尼罗河底，\\\n",
    "经过几道闪电 看到一堆光圈，\\\n",
    "不确定是不是这里。\\\n",
    "\"\n",
    "messages  = chat_prompt.format_messages(input_language=\"中文\", output_language=\"英文\", text=text)\n",
    "messages"
   ]
  },
  {
   "cell_type": "code",
   "execution_count": 4,
   "id": "8dae7e67",
   "metadata": {},
   "outputs": [
    {
     "data": {
      "text/plain": [
       "AIMessage(content='I carried luggage heavier than my body, swam down to the Nile\\'s riverbed, passed through several bolts of lightning and saw clusters of halos - uncertain if this is the place.\\n\\n翻译解析：\\n1. \"比身体重的行李\"译为\"luggage heavier than my body\"，保留了原文的物理重量与隐喻情感的双重含义\\n2. \"游入尼罗河底\"处理为\"swam down to the Nile\\'s riverbed\"，用介词down to强化纵深的空间感\\n3. \"闪电\"选用\"bolts of lightning\"，突出闪电的瞬时性与穿透力\\n4. \"光圈\"译为\"halos\"，既保留光圈的视觉效果，又暗示宗教/神秘主义色彩\\n5. 破折号连接视觉奇观与心理状态，形成诗歌的节奏留白\\n6. 整体采用自由诗体翻译，通过分行和标点还原原文的朦胧意境', additional_kwargs={'refusal': None}, response_metadata={'token_usage': {'completion_tokens': 598, 'prompt_tokens': 47, 'total_tokens': 645, 'completion_tokens_details': {'accepted_prediction_tokens': None, 'audio_tokens': None, 'reasoning_tokens': 410, 'rejected_prediction_tokens': None}, 'prompt_tokens_details': {'audio_tokens': None, 'cached_tokens': 0}, 'prompt_cache_hit_tokens': 0, 'prompt_cache_miss_tokens': 47}, 'model_name': 'deepseek-reasoner', 'system_fingerprint': 'fp_5417b77867_prod0225', 'finish_reason': 'stop', 'logprobs': None}, id='run-4e51f070-a2b8-4288-ae58-cfce6cc7811c-0', usage_metadata={'input_tokens': 47, 'output_tokens': 598, 'total_tokens': 645, 'input_token_details': {'cache_read': 0}, 'output_token_details': {'reasoning': 410}})"
      ]
     },
     "execution_count": 4,
     "metadata": {},
     "output_type": "execute_result"
    }
   ],
   "source": [
    "output  = llm.invoke(messages)\n",
    "output"
   ]
  },
  {
   "cell_type": "code",
   "execution_count": 5,
   "id": "d22bf425",
   "metadata": {
    "scrolled": true
   },
   "outputs": [
    {
     "data": {
      "text/plain": [
       "'I carried luggage heavier than my body, swam down to the Nile\\'s riverbed, passed through several bolts of lightning and saw clusters of halos - uncertain if this is the place.\\n\\n翻译解析：\\n1. \"比身体重的行李\"译为\"luggage heavier than my body\"，保留了原文的物理重量与隐喻情感的双重含义\\n2. \"游入尼罗河底\"处理为\"swam down to the Nile\\'s riverbed\"，用介词down to强化纵深的空间感\\n3. \"闪电\"选用\"bolts of lightning\"，突出闪电的瞬时性与穿透力\\n4. \"光圈\"译为\"halos\"，既保留光圈的视觉效果，又暗示宗教/神秘主义色彩\\n5. 破折号连接视觉奇观与心理状态，形成诗歌的节奏留白\\n6. 整体采用自由诗体翻译，通过分行和标点还原原文的朦胧意境'"
      ]
     },
     "execution_count": 5,
     "metadata": {},
     "output_type": "execute_result"
    }
   ],
   "source": [
    "from langchain_core.output_parsers import StrOutputParser\n",
    "\n",
    "output_parser = StrOutputParser()\n",
    "output_parser.invoke(output)"
   ]
  },
  {
   "cell_type": "code",
   "execution_count": 6,
   "id": "cb403a6e",
   "metadata": {
    "scrolled": true
   },
   "outputs": [
    {
     "data": {
      "text/plain": [
       "'I carry luggage heavier than my body, diving into the depths of the Nile River. After passing through several bolts of lightning, I see clusters of halos - uncertain if this is the destined place.\\n\\n（注：译文在保持原有意境的同时，采用了诗意的语言处理：\\n1. \"比身体重的行李\"译为\"luggage heavier than my body\"保留直译的震撼力\\n2. \"游入\"选用\"diving\"强调主动潜入的动作\\n3. \"光圈\"译为\"halos\"既保留光晕意象又带有神圣感\\n4. 末句增补\"destined\"强化寻找归属地的迷茫感\\n5. 通过分行和标点保留原文的呼吸节奏）'"
      ]
     },
     "execution_count": 6,
     "metadata": {},
     "output_type": "execute_result"
    }
   ],
   "source": [
    "chain = chat_prompt | llm | output_parser\n",
    "chain.invoke({\"input_language\":\"中文\", \"output_language\":\"英文\",\"text\": text})"
   ]
  },
  {
   "cell_type": "code",
   "execution_count": 7,
   "id": "e977c1e4",
   "metadata": {},
   "outputs": [
    {
     "data": {
      "text/plain": [
       "'我背着比身躯还要沉重的行李潜入尼罗河底，穿越几道闪电般的光芒后，眼前浮现出一堆光晕，不知是否就是那个地方。\\n\\n（说明：这个译文在保持原文意象的基础上进行了诗化处理。1. \"heavier than my body\"译为\"比身躯还要沉重\"，用\"身躯\"替代直白的\"身体\"更显文学性；2. \"flashes of lightning\"译为\"闪电般的光芒\"既保留闪电的意象又增加画面感；3. \"a pile of halos\"译为\"一堆光晕\"准确传递神秘感；4. 句式调整为流水句，用逗号营造出意识流般的沉浸感，最后用\"不知\"替代\"不确定\"更符合中文表达习惯，整体呈现出梦境般的超现实氛围。）'"
      ]
     },
     "execution_count": 7,
     "metadata": {},
     "output_type": "execute_result"
    }
   ],
   "source": [
    "text = 'I carried luggage heavier than my body and dived into the bottom of the Nile River. After passing through several flashes of lightning, I saw a pile of halos, not sure if this is the place.'\n",
    "chain.invoke({\"input_language\":\"英文\", \"output_language\":\"中文\",\"text\": text})"
   ]
  },
  {
   "cell_type": "code",
   "execution_count": 14,
   "id": "9f53cd9d",
   "metadata": {},
   "outputs": [],
   "source": [
    "import sys\n",
    "sys.path.append(r'D:\\My_Files\\实验室学习相关\\大模型部署') # 将父目录放入系统路径中\n",
    "\n",
    "# 使用智谱 Embedding API，注意，需要将上一章实现的封装代码下载到本地\n",
    "from langchain_community.embeddings import ZhipuAIEmbeddings\n",
    "\n",
    "from langchain_chroma import Chroma"
   ]
  },
  {
   "cell_type": "code",
   "execution_count": 15,
   "id": "20d7ddf2",
   "metadata": {},
   "outputs": [],
   "source": [
    "_ = load_dotenv(find_dotenv())    # read local .env file\n",
    "zhipuai_api_key = os.environ['ZHIPUAI_API_KEY']"
   ]
  },
  {
   "cell_type": "code",
   "execution_count": 20,
   "id": "b96228ac",
   "metadata": {},
   "outputs": [],
   "source": [
    "# 定义 Embeddings\n",
    "embedding = ZhipuAIEmbeddings(model=\"embedding-3\")\n",
    "\n",
    "# 向量数据库持久化路径\n",
    "persist_directory = r'D:\\My_Files\\实验室学习相关\\大模型部署\\chroma'\n",
    "\n",
    "# 加载数据库\n",
    "vectordb = Chroma(\n",
    "    persist_directory=persist_directory,  # 允许我们将persist_directory目录保存到磁盘上\n",
    "    embedding_function=embedding\n",
    ")"
   ]
  },
  {
   "cell_type": "code",
   "execution_count": 21,
   "id": "8297dfa2",
   "metadata": {},
   "outputs": [
    {
     "name": "stdout",
     "output_type": "stream",
     "text": [
      "向量库中存储的数量：50\n"
     ]
    }
   ],
   "source": [
    "print(f\"向量库中存储的数量：{vectordb._collection.count()}\")"
   ]
  },
  {
   "cell_type": "code",
   "execution_count": 23,
   "id": "fc8a8694",
   "metadata": {},
   "outputs": [
    {
     "name": "stdout",
     "output_type": "stream",
     "text": [
      "检索到的内容数：5\n"
     ]
    }
   ],
   "source": [
    "question=\"哪个农场种棉花\"\n",
    "docs = vectordb.similarity_search(question,k=5)\n",
    "print(f\"检索到的内容数：{len(docs)}\")"
   ]
  },
  {
   "cell_type": "code",
   "execution_count": 24,
   "id": "96542f5d",
   "metadata": {},
   "outputs": [
    {
     "name": "stdout",
     "output_type": "stream",
     "text": [
      "检索到的第0个内容: \n",
      " Farm_ID: F039\n",
      "Crop_Type: Cotton\n",
      "Farm_Area(acres): 220.48\n",
      "Irrigation_Type: Flood\n",
      "Fertilizer_Used(tons): 9.96\n",
      "Pesticide_Used(kg): 2.91\n",
      "Yield(tons): 10.53\n",
      "Soil_Type: Clay\n",
      "Season: Zaid\n",
      "Water_Usage(cubic meters): 82549.03\n",
      "-----------------------------------------------------\n",
      "检索到的第1个内容: \n",
      " Farm_ID: F043\n",
      "Crop_Type: Cotton\n",
      "Farm_Area(acres): 78.79\n",
      "Irrigation_Type: Flood\n",
      "Fertilizer_Used(tons): 1.35\n",
      "Pesticide_Used(kg): 3.0\n",
      "Yield(tons): 11.45\n",
      "Soil_Type: Sandy\n",
      "Season: Zaid\n",
      "Water_Usage(cubic meters): 94754.73\n",
      "-----------------------------------------------------\n",
      "检索到的第2个内容: \n",
      " Farm_ID: F036\n",
      "Crop_Type: Cotton\n",
      "Farm_Area(acres): 446.16\n",
      "Irrigation_Type: Manual\n",
      "Fertilizer_Used(tons): 4.35\n",
      "Pesticide_Used(kg): 3.47\n",
      "Yield(tons): 12.53\n",
      "Soil_Type: Loamy\n",
      "Season: Zaid\n",
      "Water_Usage(cubic meters): 38874.28\n",
      "-----------------------------------------------------\n",
      "检索到的第3个内容: \n",
      " Farm_ID: F021\n",
      "Crop_Type: Cotton\n",
      "Farm_Area(acres): 377.05\n",
      "Irrigation_Type: Drip\n",
      "Fertilizer_Used(tons): 5.95\n",
      "Pesticide_Used(kg): 0.91\n",
      "Yield(tons): 29.17\n",
      "Soil_Type: Clay\n",
      "Season: Rabi\n",
      "Water_Usage(cubic meters): 26743.55\n",
      "-----------------------------------------------------\n",
      "检索到的第4个内容: \n",
      " Farm_ID: F027\n",
      "Crop_Type: Cotton\n",
      "Farm_Area(acres): 375.1\n",
      "Irrigation_Type: Rain-fed\n",
      "Fertilizer_Used(tons): 0.5\n",
      "Pesticide_Used(kg): 4.76\n",
      "Yield(tons): 22.51\n",
      "Soil_Type: Clay\n",
      "Season: Kharif\n",
      "Water_Usage(cubic meters): 39362.44\n",
      "-----------------------------------------------------\n"
     ]
    }
   ],
   "source": [
    "for i, doc in enumerate(docs):\n",
    "    print(f\"检索到的第{i}个内容: \\n {doc.page_content}\", end=\"\\n-----------------------------------------------------\\n\")"
   ]
  },
  {
   "cell_type": "code",
   "execution_count": 26,
   "id": "964b39e3",
   "metadata": {},
   "outputs": [],
   "source": [
    "from langchain.prompts import PromptTemplate\n",
    "\n",
    "template = \"\"\"使用以下上下文来回答最后的问题。如果你不知道答案，就说你不知道，不要试图编造答\n",
    "案。最多使用三句话。尽量使答案简明扼要。总是在回答的最后说“谢谢你的提问！”。\n",
    "{context}\n",
    "问题: {question}\n",
    "\"\"\"\n",
    "\n",
    "QA_CHAIN_PROMPT = PromptTemplate(input_variables=[\"context\",\"question\"],\n",
    "                                 template=template)"
   ]
  },
  {
   "cell_type": "code",
   "execution_count": 27,
   "id": "2b4afded",
   "metadata": {},
   "outputs": [],
   "source": [
    "from langchain.chains import RetrievalQA\n",
    "\n",
    "qa_chain = RetrievalQA.from_chain_type(llm,\n",
    "                                       retriever=vectordb.as_retriever(),\n",
    "                                       return_source_documents=True,\n",
    "                                       chain_type_kwargs={\"prompt\":QA_CHAIN_PROMPT})"
   ]
  },
  {
   "cell_type": "code",
   "execution_count": 41,
   "id": "3dab2e32",
   "metadata": {},
   "outputs": [],
   "source": [
    "question_1 = \"一共有多少个农场种植棉花？\"\n",
    "question_2 = \"王阳明是谁？\""
   ]
  },
  {
   "cell_type": "code",
   "execution_count": 42,
   "id": "42461c20",
   "metadata": {},
   "outputs": [
    {
     "name": "stdout",
     "output_type": "stream",
     "text": [
      "大模型+知识库后回答 question_1 的结果：\n",
      "根据提供的上下文，共有4个农场种植棉花（F039、F043、F036、F001）。谢谢你的提问！\n"
     ]
    }
   ],
   "source": [
    "result = qa_chain.invoke({\"query\": question_1})\n",
    "print(\"大模型+知识库后回答 question_1 的结果：\")\n",
    "print(result[\"result\"])"
   ]
  },
  {
   "cell_type": "code",
   "execution_count": 35,
   "id": "ef4ea5be",
   "metadata": {},
   "outputs": [
    {
     "name": "stdout",
     "output_type": "stream",
     "text": [
      "大模型+知识库后回答 question_2 的结果：\n",
      "我不知道。谢谢你的提问！\n"
     ]
    }
   ],
   "source": [
    "result = qa_chain({\"query\": question_2})\n",
    "print(\"大模型+知识库后回答 question_2 的结果：\")\n",
    "print(result[\"result\"])"
   ]
  },
  {
   "cell_type": "code",
   "execution_count": 36,
   "id": "85065740",
   "metadata": {},
   "outputs": [
    {
     "name": "stderr",
     "output_type": "stream",
     "text": [
      "C:\\Users\\13967\\AppData\\Local\\Temp\\ipykernel_3056\\2093528877.py:5: LangChainDeprecationWarning: The method `BaseChatModel.predict` was deprecated in langchain-core 0.1.7 and will be removed in 1.0. Use :meth:`~invoke` instead.\n",
      "  llm.predict(prompt_template)\n"
     ]
    },
    {
     "data": {
      "text/plain": [
       "'**南瓜书**（《机器学习公式详解》）是一本专注于解析周志华教授《机器学习》（俗称“西瓜书”）中数学公式和难点的开源学习资料，由Datawhale团队编写。其核心内容如下：\\n\\n### 1. **定位与作用**\\n- **西瓜书伴侣**：作为《机器学习》的补充，重点讲解书中复杂的数学推导与理论细节，降低学习门槛。\\n- **公式拆解**：逐章逐条解析西瓜书中的公式，提供详细的数学证明和步骤演示，帮助读者理解背后的数学逻辑。\\n\\n### 2. **内容特点**\\n- **覆盖全面**：涵盖线性模型、神经网络、支持向量机等关键章节的公式推导。\\n- **可视化辅助**：通过图表和实例解释抽象概念（如梯度下降的几何意义）。\\n- **误区标注**：标注常见理解错误，例如贝叶斯估计中先验/后验分布的混淆点。\\n\\n### 3. **适用人群**\\n- **机器学习初学者**：适合数学基础薄弱的学习者补充微积分、概率论知识。\\n- **进阶查漏补缺**：帮助已有基础的读者系统梳理理论体系，解决“一知半解”问题。\\n\\n### 4. **获取方式**\\n- **开源免费**：通过GitHub或Datawhale官网获取PDF版本，支持社区协作更新。\\n- **配套代码**：部分章节提供Python代码实现（如决策树分裂准则的实现示例）。\\n\\n### 5. **与其他资源的关联**\\n- 与“西瓜书”形成“理论+推导”组合，与《机器学习实战》（“葫芦书”）构成“理论-推导-应用”学习链路。\\n\\n**示例**：在解析《机器学习》第6章支持向量机时，南瓜书用拉格朗日对偶性分步演示了间隔最大化问题的转化过程，并附上了KKT条件的几何解释图，帮助读者直观理解非线性分类问题的数学处理。\\n\\n如需深入学习，可直接访问南瓜书GitHub仓库下载最新版，结合西瓜书对应章节同步阅读。'"
      ]
     },
     "execution_count": 36,
     "metadata": {},
     "output_type": "execute_result"
    }
   ],
   "source": [
    "prompt_template = \"\"\"请回答下列问题:\n",
    "                            {}\"\"\".format(question_1)\n",
    "\n",
    "### 基于大模型的问答\n",
    "llm.predict(prompt_template)"
   ]
  },
  {
   "cell_type": "code",
   "execution_count": 37,
   "id": "f0965173",
   "metadata": {},
   "outputs": [
    {
     "data": {
      "text/plain": [
       "AIMessage(content='王阳明（1472—1529），名守仁，字伯安，号阳明，浙江余姚人，是明代著名的思想家、哲学家、军事家和教育家，陆王心学的集大成者。他的思想对东亚文化圈（尤其是中国、日本、朝鲜半岛）产生了深远影响。\\n\\n### 主要贡献与思想\\n1. **心学体系**  \\n   王阳明继承并发展了南宋陆九渊的“心学”，提出核心观点：  \\n   - **心即理**：认为宇宙的法则（理）不在外部，而是根植于人的内心。  \\n   - **知行合一**：反对“知与行分离”，强调真正的认知必须通过行动体现（例如：知道孝顺却不行孝，等于不知孝）。  \\n   - **致良知**：主张通过内省和实践，唤醒人内心本有的道德判断力（良知），并以此指导行为。\\n\\n2. **事功成就**  \\n   他不仅是思想家，也是能臣：  \\n   - 平定江西匪患、宁王朱宸濠叛乱，展现卓越军事才能。  \\n   - 推行基层治理，注重教化与民生结合。\\n\\n3. **教育理念**  \\n   强调“人人皆可为圣人”，主张教育应启发本心，反对僵化的教条学习。\\n\\n### 重要经历\\n- **龙场悟道**：因得罪宦官被贬贵州龙场驿，在困境中顿悟“心即理”，奠定心学基础。  \\n- **讲学著述**：晚年广收门徒，代表作《传习录》由其弟子整理，系统阐述心学思想。\\n\\n### 历史地位\\n王阳明突破程朱理学的框架，开创了儒学新方向，被称为“儒家四圣”之一（孔子、孟子、朱熹、王阳明）。他的思想在近代启发过梁启超、孙中山等人物，并在日本推动了明治维新前的思想变革。至今，“阳明心学”仍被视为注重实践与精神修养的重要哲学资源。', additional_kwargs={'refusal': None}, response_metadata={'token_usage': {'completion_tokens': 824, 'prompt_tokens': 15, 'total_tokens': 839, 'completion_tokens_details': {'accepted_prediction_tokens': None, 'audio_tokens': None, 'reasoning_tokens': 409, 'rejected_prediction_tokens': None}, 'prompt_tokens_details': {'audio_tokens': None, 'cached_tokens': 0}, 'prompt_cache_hit_tokens': 0, 'prompt_cache_miss_tokens': 15}, 'model_name': 'deepseek-reasoner', 'system_fingerprint': 'fp_5417b77867_prod0225', 'finish_reason': 'stop', 'logprobs': None}, id='run-a59c39d8-774b-4494-b4bb-d67a01da0a9f-0', usage_metadata={'input_tokens': 15, 'output_tokens': 824, 'total_tokens': 839, 'input_token_details': {'cache_read': 0}, 'output_token_details': {'reasoning': 409}})"
      ]
     },
     "execution_count": 37,
     "metadata": {},
     "output_type": "execute_result"
    }
   ],
   "source": [
    "prompt_template = \"\"\"请回答下列问题:\n",
    "                            {}\"\"\".format(question_2)\n",
    "\n",
    "### 基于大模型的问答\n",
    "llm.invoke(prompt_template)"
   ]
  },
  {
   "cell_type": "code",
   "execution_count": 38,
   "id": "de53a580",
   "metadata": {},
   "outputs": [
    {
     "name": "stderr",
     "output_type": "stream",
     "text": [
      "C:\\Users\\13967\\AppData\\Local\\Temp\\ipykernel_3056\\2228008247.py:3: LangChainDeprecationWarning: Please see the migration guide at: https://python.langchain.com/docs/versions/migrating_memory/\n",
      "  memory = ConversationBufferMemory(\n"
     ]
    }
   ],
   "source": [
    "from langchain.memory import ConversationBufferMemory\n",
    "\n",
    "memory = ConversationBufferMemory(\n",
    "    memory_key=\"chat_history\",  # 与 prompt 的输入变量保持一致。\n",
    "    return_messages=True  # 将以消息列表的形式返回聊天记录，而不是单个字符串\n",
    ")"
   ]
  },
  {
   "cell_type": "code",
   "execution_count": 39,
   "id": "f62455b3",
   "metadata": {},
   "outputs": [
    {
     "name": "stdout",
     "output_type": "stream",
     "text": [
      "根据提供的上下文数据，这些信息主要是关于不同农场的农业数据（如作物类型、灌溉方式、产量等），并没有涉及任何与提示工程（Prompt Engineering）相关的内容。因此，从这些数据中无法学习到关于提示工程的知识。\n",
      "\n",
      "提示工程通常指设计和优化自然语言处理中的提示（Prompts）以提高模型生成结果的准确性和相关性，而这需要与AI模型交互的实践和理论学习。如果您有关于农业数据分析或其他相关领域的问题，我很乐意帮助解答！\n"
     ]
    }
   ],
   "source": [
    "from langchain.chains import ConversationalRetrievalChain\n",
    "\n",
    "retriever=vectordb.as_retriever()\n",
    "\n",
    "qa = ConversationalRetrievalChain.from_llm(\n",
    "    llm,\n",
    "    retriever=retriever,\n",
    "    memory=memory\n",
    ")\n",
    "question = \"我可以学习到关于提示工程的知识吗？\"\n",
    "result = qa({\"question\": question})\n",
    "print(result['answer'])"
   ]
  },
  {
   "cell_type": "code",
   "execution_count": 40,
   "id": "3ef748e8",
   "metadata": {},
   "outputs": [
    {
     "name": "stdout",
     "output_type": "stream",
     "text": [
      "根据提供的上下文数据，其中主要涉及不同农场的农业相关信息（如作物类型、灌溉方式、产量等），但未提及任何与课程内容或提示工程（Prompt Engineering）相关的内容。因此，无法从给定数据中推断出“为什么这门课程需要教授提示工程的知识”这一问题的答案。\n",
      "\n",
      "如果您有其他上下文或具体问题需要结合当前数据进行分析，请提供更多信息。\n"
     ]
    }
   ],
   "source": [
    "question = \"为什么这门课需要教这方面的知识？\"\n",
    "result = qa({\"question\": question})\n",
    "print(result['answer'])"
   ]
  },
  {
   "cell_type": "code",
   "execution_count": null,
   "id": "1cc4aefd",
   "metadata": {},
   "outputs": [],
   "source": []
  }
 ],
 "metadata": {
  "kernelspec": {
   "display_name": "Python [conda env:.conda-deepseek]",
   "language": "python",
   "name": "conda-env-.conda-deepseek-py"
  },
  "language_info": {
   "codemirror_mode": {
    "name": "ipython",
    "version": 3
   },
   "file_extension": ".py",
   "mimetype": "text/x-python",
   "name": "python",
   "nbconvert_exporter": "python",
   "pygments_lexer": "ipython3",
   "version": "3.12.8"
  }
 },
 "nbformat": 4,
 "nbformat_minor": 5
}
