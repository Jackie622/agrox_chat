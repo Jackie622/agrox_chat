{
 "cells": [
  {
   "cell_type": "markdown",
   "id": "5341a087",
   "metadata": {},
   "source": [
    "import pandas as pd\n",
    "df = pd.read_csv('data/agriculture_dataset.csv')"
   ]
  },
  {
   "cell_type": "markdown",
   "id": "66c6be54",
   "metadata": {
    "scrolled": true
   },
   "source": [
    "df"
   ]
  },
  {
   "cell_type": "markdown",
   "id": "7bfc8553",
   "metadata": {
    "scrolled": true
   },
   "source": [
    "from langchain.document_loaders.csv_loader import CSVLoader\n",
    "loader = CSVLoader(file_path=\"data/agriculture_dataset.csv\")\n",
    "data = loader.load()\n",
    "data"
   ]
  },
  {
   "cell_type": "markdown",
   "id": "174c4b4e",
   "metadata": {},
   "source": [
    "print(f\"载入后的变量类型为：{type(data)}，\",  f\"该 CSV 一共包含 {len(data)} 行\")"
   ]
  },
  {
   "cell_type": "markdown",
   "id": "a8b4dabe",
   "metadata": {},
   "source": [
    "one_data = data[1]\n",
    "print(f\"每一个元素的类型：{type(one_data)}.\",\n",
    "     f\"该文档的描述性数据：{one_data.metadata}\",\n",
    "     f\"查看该文档的内容：\\n{one_data.page_content}\",\n",
    "     sep = \"\\n------\\n\")"
   ]
  },
  {
   "cell_type": "markdown",
   "id": "53c212ee",
   "metadata": {},
   "source": [
    "from langchain.text_splitter import RecursiveCharacterTextSplitter"
   ]
  },
  {
   "cell_type": "markdown",
   "id": "b33f4b59",
   "metadata": {},
   "source": [
    "# 知识库中单段文本长度\n",
    "CHUNK_SIZE = 50\n",
    "\n",
    "# 知识库中相邻文本重合长度\n",
    "OVERLAP_SIZE = 5"
   ]
  },
  {
   "cell_type": "markdown",
   "id": "f6d21347",
   "metadata": {},
   "source": [
    "# 使用递归字符文本分割器\n",
    "text_splitter = RecursiveCharacterTextSplitter(\n",
    "    chunk_size=CHUNK_SIZE,\n",
    "    chunk_overlap=OVERLAP_SIZE\n",
    ")\n",
    "text_splitter.split_text(one_data.page_content[0:1000])"
   ]
  },
  {
   "cell_type": "markdown",
   "id": "0d3a958c",
   "metadata": {},
   "source": [
    "split_docs = text_splitter.split_documents(data)\n",
    "print(f\"切分后的文件数量：{len(split_docs)}\")"
   ]
  },
  {
   "cell_type": "markdown",
   "id": "edc22596",
   "metadata": {},
   "source": [
    "print(f\"切分后的字符数（可以用来大致评估 token 数）：{sum([len(doc.page_content) for doc in split_docs])}\")"
   ]
  },
  {
   "cell_type": "code",
   "execution_count": 1,
   "id": "63b7ebec",
   "metadata": {},
   "outputs": [
    {
     "name": "stdout",
     "output_type": "stream",
     "text": [
      "['D:\\\\My_Files\\\\实验室学习相关\\\\大模型部署\\\\data\\\\agriculture_dataset.csv']\n"
     ]
    }
   ],
   "source": [
    "import os\n",
    "from dotenv import load_dotenv, find_dotenv\n",
    "from langchain.document_loaders.csv_loader import CSVLoader\n",
    "\n",
    "# 读取本地/项目的环境变量。\n",
    "# find_dotenv()寻找并定位.env文件的路径\n",
    "# load_dotenv()读取该.env文件，并将其中的环境变量加载到当前的运行环境中  \n",
    "# 如果你设置的是全局的环境变量，这行代码则没有任何作用。\n",
    "_ = load_dotenv(find_dotenv())\n",
    "\n",
    "# 如果你需要通过代理端口访问，你需要如下配置\n",
    "# os.environ['HTTPS_PROXY'] = 'http://127.0.0.1:7890'\n",
    "# os.environ[\"HTTP_PROXY\"] = 'http://127.0.0.1:7890'\n",
    "\n",
    "# 获取folder_path下所有文件路径，储存在file_paths里\n",
    "file_paths = []\n",
    "folder_path = r'D:\\My_Files\\实验室学习相关\\大模型部署\\data'\n",
    "for root, dirs, files in os.walk(folder_path):\n",
    "    for file in files:\n",
    "        file_path = os.path.join(root, file)\n",
    "        file_paths.append(file_path)\n",
    "print(file_paths[:3])"
   ]
  },
  {
   "cell_type": "code",
   "execution_count": 2,
   "id": "c262bed8",
   "metadata": {},
   "outputs": [],
   "source": [
    "loaders = []\n",
    "for file_path in file_paths:\n",
    "    loaders.append(CSVLoader(file_path))"
   ]
  },
  {
   "cell_type": "code",
   "execution_count": 3,
   "id": "147b754a",
   "metadata": {},
   "outputs": [],
   "source": [
    "texts = []\n",
    "for loader in loaders:\n",
    "    texts.extend(loader.load())"
   ]
  },
  {
   "cell_type": "code",
   "execution_count": 4,
   "id": "fe3e3a8f",
   "metadata": {},
   "outputs": [
    {
     "name": "stdout",
     "output_type": "stream",
     "text": [
      "每一个元素的类型：<class 'langchain_core.documents.base.Document'>.\n",
      "------\n",
      "该文档的描述性数据：{'source': 'D:\\\\My_Files\\\\实验室学习相关\\\\大模型部署\\\\data\\\\agriculture_dataset.csv', 'row': 1}\n",
      "------\n",
      "查看该文档的内容:\n",
      "Farm_ID: F002\n",
      "Crop_Type: Carrot\n",
      "Farm_Area(acres): 18.67\n",
      "Irrigation_Type: Manual\n",
      "Fertilizer_Used(tons): 4.77\n",
      "Pesticide_Used(kg): 4.36\n",
      "Yield(tons): 42.91\n",
      "Soil_Type: Peaty\n",
      "Season: Kharif\n",
      "Water_Usage(cubic meters): 68725.54\n"
     ]
    }
   ],
   "source": [
    "text = texts[1]\n",
    "print(f\"每一个元素的类型：{type(text)}.\", \n",
    "    f\"该文档的描述性数据：{text.metadata}\", \n",
    "    f\"查看该文档的内容:\\n{text.page_content[0:]}\", \n",
    "    sep=\"\\n------\\n\")"
   ]
  },
  {
   "cell_type": "code",
   "execution_count": 5,
   "id": "e4e505cc",
   "metadata": {},
   "outputs": [
    {
     "name": "stdout",
     "output_type": "stream",
     "text": [
      "切分后的文件数量：50\n"
     ]
    }
   ],
   "source": [
    "from langchain.text_splitter import RecursiveCharacterTextSplitter\n",
    "\n",
    "# 切分文档\n",
    "text_splitter = RecursiveCharacterTextSplitter(\n",
    "    chunk_size=500, chunk_overlap=50)\n",
    "\n",
    "split_docs = text_splitter.split_documents(texts)\n",
    "print(f\"切分后的文件数量：{len(split_docs)}\")"
   ]
  },
  {
   "cell_type": "code",
   "execution_count": 6,
   "id": "6ddbe02b",
   "metadata": {},
   "outputs": [],
   "source": [
    "from langchain_community.embeddings import ZhipuAIEmbeddings\n",
    "embedding = ZhipuAIEmbeddings(\n",
    "    model=\"embedding-3\",\n",
    "    api_key=\"efe00797053e4bf99dd381d8703a0863.goa9E7f8rBPi4nS7\"\n",
    ")\n",
    "persist_directory = r'D:\\My_Files\\实验室学习相关\\大模型部署\\chroma'"
   ]
  },
  {
   "cell_type": "code",
   "execution_count": 7,
   "id": "b65642ad",
   "metadata": {},
   "outputs": [],
   "source": [
    "from langchain.vectorstores.chroma import Chroma\n",
    "\n",
    "vectordb = Chroma.from_documents(\n",
    "    documents=split_docs[:50], # 为了速度，只选择前 50 个切分的 doc 进行生成；使用千帆时因QPS限制，建议选择前 5 个doc\n",
    "    embedding=embedding,\n",
    "    persist_directory=persist_directory  # 允许我们将persist_directory目录保存到磁盘上\n",
    ")\n"
   ]
  },
  {
   "cell_type": "code",
   "execution_count": 8,
   "id": "18c54d1a",
   "metadata": {},
   "outputs": [
    {
     "name": "stdout",
     "output_type": "stream",
     "text": [
      "向量库中存储的数量：50\n"
     ]
    }
   ],
   "source": [
    "print(f\"向量库中存储的数量：{vectordb._collection.count()}\")"
   ]
  },
  {
   "cell_type": "code",
   "execution_count": 9,
   "id": "efc9087b",
   "metadata": {},
   "outputs": [],
   "source": [
    "question=\"哪个农场种棉花\""
   ]
  },
  {
   "cell_type": "code",
   "execution_count": 10,
   "id": "bcb5c591",
   "metadata": {},
   "outputs": [
    {
     "name": "stdout",
     "output_type": "stream",
     "text": [
      "检索到的内容数：10\n"
     ]
    }
   ],
   "source": [
    "sim_docs = vectordb.similarity_search(question,k=10)\n",
    "print(f\"检索到的内容数：{len(sim_docs)}\")"
   ]
  },
  {
   "cell_type": "code",
   "execution_count": 11,
   "id": "4c5bc4f4",
   "metadata": {},
   "outputs": [
    {
     "name": "stdout",
     "output_type": "stream",
     "text": [
      "检索到的第0个内容: \n",
      "Farm_ID: F039\n",
      "Crop_Type: Cotton\n",
      "Farm_Area(acres): 220.48\n",
      "Irrigation_Type: Flood\n",
      "Fertilizer_Used(tons): 9.96\n",
      "Pesticide_Used(kg): 2.91\n",
      "Yield(tons): 10.53\n",
      "Soil_Type: Clay\n",
      "Season: Zaid\n",
      "Water_Usage(cubic m\n",
      "--------------\n",
      "检索到的第1个内容: \n",
      "Farm_ID: F043\n",
      "Crop_Type: Cotton\n",
      "Farm_Area(acres): 78.79\n",
      "Irrigation_Type: Flood\n",
      "Fertilizer_Used(tons): 1.35\n",
      "Pesticide_Used(kg): 3.0\n",
      "Yield(tons): 11.45\n",
      "Soil_Type: Sandy\n",
      "Season: Zaid\n",
      "Water_Usage(cubic me\n",
      "--------------\n",
      "检索到的第2个内容: \n",
      "Farm_ID: F036\n",
      "Crop_Type: Cotton\n",
      "Farm_Area(acres): 446.16\n",
      "Irrigation_Type: Manual\n",
      "Fertilizer_Used(tons): 4.35\n",
      "Pesticide_Used(kg): 3.47\n",
      "Yield(tons): 12.53\n",
      "Soil_Type: Loamy\n",
      "Season: Zaid\n",
      "Water_Usage(cubic\n",
      "--------------\n",
      "检索到的第3个内容: \n",
      "Farm_ID: F021\n",
      "Crop_Type: Cotton\n",
      "Farm_Area(acres): 377.05\n",
      "Irrigation_Type: Drip\n",
      "Fertilizer_Used(tons): 5.95\n",
      "Pesticide_Used(kg): 0.91\n",
      "Yield(tons): 29.17\n",
      "Soil_Type: Clay\n",
      "Season: Rabi\n",
      "Water_Usage(cubic me\n",
      "--------------\n",
      "检索到的第4个内容: \n",
      "Farm_ID: F027\n",
      "Crop_Type: Cotton\n",
      "Farm_Area(acres): 375.1\n",
      "Irrigation_Type: Rain-fed\n",
      "Fertilizer_Used(tons): 0.5\n",
      "Pesticide_Used(kg): 4.76\n",
      "Yield(tons): 22.51\n",
      "Soil_Type: Clay\n",
      "Season: Kharif\n",
      "Water_Usage(cubi\n",
      "--------------\n",
      "检索到的第5个内容: \n",
      "Farm_ID: F001\n",
      "Crop_Type: Cotton\n",
      "Farm_Area(acres): 329.4\n",
      "Irrigation_Type: Sprinkler\n",
      "Fertilizer_Used(tons): 8.14\n",
      "Pesticide_Used(kg): 2.21\n",
      "Yield(tons): 14.44\n",
      "Soil_Type: Loamy\n",
      "Season: Kharif\n",
      "Water_Usage(c\n",
      "--------------\n",
      "检索到的第6个内容: \n",
      "Farm_ID: F040\n",
      "Crop_Type: Cotton\n",
      "Farm_Area(acres): 166.82\n",
      "Irrigation_Type: Rain-fed\n",
      "Fertilizer_Used(tons): 2.85\n",
      "Pesticide_Used(kg): 1.36\n",
      "Yield(tons): 46.19\n",
      "Soil_Type: Sandy\n",
      "Season: Zaid\n",
      "Water_Usage(cub\n",
      "--------------\n",
      "检索到的第7个内容: \n",
      "Farm_ID: F022\n",
      "Crop_Type: Wheat\n",
      "Farm_Area(acres): 92.67\n",
      "Irrigation_Type: Flood\n",
      "Fertilizer_Used(tons): 6.95\n",
      "Pesticide_Used(kg): 3.64\n",
      "Yield(tons): 30.7\n",
      "Soil_Type: Clay\n",
      "Season: Rabi\n",
      "Water_Usage(cubic mete\n",
      "--------------\n",
      "检索到的第8个内容: \n",
      "Farm_ID: F029\n",
      "Crop_Type: Wheat\n",
      "Farm_Area(acres): 288.52\n",
      "Irrigation_Type: Manual\n",
      "Fertilizer_Used(tons): 1.79\n",
      "Pesticide_Used(kg): 4.78\n",
      "Yield(tons): 36.9\n",
      "Soil_Type: Silty\n",
      "Season: Zaid\n",
      "Water_Usage(cubic m\n",
      "--------------\n",
      "检索到的第9个内容: \n",
      "Farm_ID: F026\n",
      "Crop_Type: Wheat\n",
      "Farm_Area(acres): 162.28\n",
      "Irrigation_Type: Flood\n",
      "Fertilizer_Used(tons): 5.85\n",
      "Pesticide_Used(kg): 2.42\n",
      "Yield(tons): 24.63\n",
      "Soil_Type: Loamy\n",
      "Season: Rabi\n",
      "Water_Usage(cubic m\n",
      "--------------\n"
     ]
    }
   ],
   "source": [
    "for i, sim_doc in enumerate(sim_docs):\n",
    "    print(f\"检索到的第{i}个内容: \\n{sim_doc.page_content[:200]}\", end=\"\\n--------------\\n\")"
   ]
  },
  {
   "cell_type": "code",
   "execution_count": 19,
   "id": "e063fc8b",
   "metadata": {},
   "outputs": [],
   "source": [
    "mmr_docs = vectordb.max_marginal_relevance_search(question,k=3)"
   ]
  },
  {
   "cell_type": "code",
   "execution_count": 20,
   "id": "389e602d",
   "metadata": {},
   "outputs": [
    {
     "name": "stdout",
     "output_type": "stream",
     "text": [
      "MMR 检索到的第0个内容: \n",
      "Farm_ID: F039\n",
      "Crop_Type: Cotton\n",
      "Farm_Area(acres): 220.48\n",
      "Irrigation_Type: Flood\n",
      "Fertilizer_Used(tons): 9.96\n",
      "Pesticide_Used(kg): 2.91\n",
      "Yield(tons): 10.53\n",
      "Soil_Type: Clay\n",
      "Season: Zaid\n",
      "Water_Usage(cubic m\n",
      "--------------\n",
      "MMR 检索到的第1个内容: \n",
      "Farm_ID: F001\n",
      "Crop_Type: Cotton\n",
      "Farm_Area(acres): 329.4\n",
      "Irrigation_Type: Sprinkler\n",
      "Fertilizer_Used(tons): 8.14\n",
      "Pesticide_Used(kg): 2.21\n",
      "Yield(tons): 14.44\n",
      "Soil_Type: Loamy\n",
      "Season: Kharif\n",
      "Water_Usage(c\n",
      "--------------\n",
      "MMR 检索到的第2个内容: \n",
      "Farm_ID: F044\n",
      "Crop_Type: Soybean\n",
      "Farm_Area(acres): 84.12\n",
      "Irrigation_Type: Manual\n",
      "Fertilizer_Used(tons): 4.64\n",
      "Pesticide_Used(kg): 2.53\n",
      "Yield(tons): 24.77\n",
      "Soil_Type: Sandy\n",
      "Season: Rabi\n",
      "Water_Usage(cubic\n",
      "--------------\n"
     ]
    }
   ],
   "source": [
    "for i, sim_doc in enumerate(mmr_docs):\n",
    "    print(f\"MMR 检索到的第{i}个内容: \\n{sim_doc.page_content[:200]}\", end=\"\\n--------------\\n\")"
   ]
  },
  {
   "cell_type": "code",
   "execution_count": null,
   "id": "c482ba78",
   "metadata": {},
   "outputs": [],
   "source": []
  },
  {
   "cell_type": "code",
   "execution_count": null,
   "id": "ddac0f87",
   "metadata": {},
   "outputs": [],
   "source": []
  }
 ],
 "metadata": {
  "kernelspec": {
   "display_name": "Python [conda env:.conda-deepseek]",
   "language": "python",
   "name": "conda-env-.conda-deepseek-py"
  },
  "language_info": {
   "codemirror_mode": {
    "name": "ipython",
    "version": 3
   },
   "file_extension": ".py",
   "mimetype": "text/x-python",
   "name": "python",
   "nbconvert_exporter": "python",
   "pygments_lexer": "ipython3",
   "version": "3.12.8"
  }
 },
 "nbformat": 4,
 "nbformat_minor": 5
}
